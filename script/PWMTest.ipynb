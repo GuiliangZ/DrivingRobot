{
 "cells": [
  {
   "cell_type": "code",
   "execution_count": 21,
   "id": "38a837b2",
   "metadata": {},
   "outputs": [],
   "source": [
    "import Jetson.GPIO as GPIO\n",
    "import time\n",
    "GPIO.cleanup()\n",
    "PWM_PIN = 33\n",
    "GPIO.setmode(GPIO.BOARD)\n",
    "# GPIO.setup(PWM_PIN, GPIO.OUT)\n",
    "\n",
    "pwm = GPIO.PWM(PWM_PIN,500)\n",
    "pwm.start(1)\n",
    "pwm.ChangeDutyCycle(50)\n",
    "try:\n",
    "    while True:\n",
    "        time.sleep(1)\n",
    "except KeyboardInterrupt:\n",
    "    pass\n",
    "\n",
    "pwm.stop()\n",
    "GPIO.cleanup()"
   ]
  },
  {
   "cell_type": "code",
   "execution_count": null,
   "id": "90397c98",
   "metadata": {},
   "outputs": [
    {
     "name": "stdout",
     "output_type": "stream",
     "text": [
      "Channel 0 duty: 0%\n",
      "Channel 0 duty: 5%\n",
      "Channel 0 duty: 10%\n",
      "Channel 0 duty: 15%\n",
      "Channel 0 duty: 20%\n",
      "Channel 0 duty: 25%\n",
      "Channel 0 duty: 30%\n",
      "Channel 0 duty: 35%\n",
      "Channel 0 duty: 40%\n",
      "Channel 0 duty: 45%\n",
      "Channel 0 duty: 50%\n",
      "Channel 0 duty: 55%\n",
      "Channel 0 duty: 60%\n",
      "Channel 0 duty: 65%\n",
      "Channel 0 duty: 70%\n",
      "Channel 0 duty: 75%\n",
      "Channel 0 duty: 80%\n",
      "Channel 0 duty: 85%\n",
      "Channel 0 duty: 90%\n",
      "Channel 0 duty: 95%\n",
      "Channel 0 duty: 100%\n",
      "Channel 0 duty: 100%\n",
      "Channel 0 duty: 95%\n",
      "Channel 0 duty: 90%\n",
      "Channel 0 duty: 85%\n",
      "Channel 0 duty: 80%\n",
      "Channel 0 duty: 75%\n",
      "Channel 0 duty: 70%\n",
      "Channel 0 duty: 65%\n",
      "Channel 0 duty: 60%\n",
      "Channel 0 duty: 55%\n",
      "Channel 0 duty: 50%\n",
      "Channel 0 duty: 45%\n",
      "Channel 0 duty: 40%\n",
      "Channel 0 duty: 35%\n",
      "Channel 0 duty: 30%\n",
      "Channel 0 duty: 25%\n",
      "Channel 0 duty: 20%\n",
      "Channel 0 duty: 15%\n",
      "Channel 0 duty: 10%\n",
      "Channel 0 duty: 5%\n",
      "Channel 0 duty: 0%\n"
     ]
    },
    {
     "ename": "ValueError",
     "evalue": "percent must be between 0.0 and 100.0",
     "output_type": "error",
     "traceback": [
      "\u001b[0;31m---------------------------------------------------------------------------\u001b[0m",
      "\u001b[0;31mValueError\u001b[0m                                Traceback (most recent call last)",
      "Cell \u001b[0;32mIn[2], line 45\u001b[0m\n\u001b[1;32m     43\u001b[0m \u001b[38;5;66;03m# Ramp back down\u001b[39;00m\n\u001b[1;32m     44\u001b[0m \u001b[38;5;28;01mfor\u001b[39;00m dc \u001b[38;5;129;01min\u001b[39;00m \u001b[38;5;28mrange\u001b[39m(\u001b[38;5;241m100\u001b[39m, \u001b[38;5;241m-\u001b[39m\u001b[38;5;241m100\u001b[39m, \u001b[38;5;241m-\u001b[39m\u001b[38;5;241m5\u001b[39m):\n\u001b[0;32m---> 45\u001b[0m     \u001b[43mset_duty\u001b[49m\u001b[43m(\u001b[49m\u001b[38;5;241;43m0\u001b[39;49m\u001b[43m,\u001b[49m\u001b[43m \u001b[49m\u001b[43mdc\u001b[49m\u001b[43m)\u001b[49m\n\u001b[1;32m     46\u001b[0m     \u001b[38;5;28mprint\u001b[39m(\u001b[38;5;124mf\u001b[39m\u001b[38;5;124m\"\u001b[39m\u001b[38;5;124mChannel 0 duty: \u001b[39m\u001b[38;5;132;01m{\u001b[39;00mdc\u001b[38;5;132;01m}\u001b[39;00m\u001b[38;5;124m%\u001b[39m\u001b[38;5;124m\"\u001b[39m)\n\u001b[1;32m     47\u001b[0m     time\u001b[38;5;241m.\u001b[39msleep(\u001b[38;5;241m2\u001b[39m)\n",
      "Cell \u001b[0;32mIn[2], line 26\u001b[0m, in \u001b[0;36mset_duty\u001b[0;34m(channel, percent)\u001b[0m\n\u001b[1;32m     21\u001b[0m \u001b[38;5;250m\u001b[39m\u001b[38;5;124;03m\"\"\"\u001b[39;00m\n\u001b[1;32m     22\u001b[0m \u001b[38;5;124;03mchannel: 0–15\u001b[39;00m\n\u001b[1;32m     23\u001b[0m \u001b[38;5;124;03mpercent: 0.0 to 100.0 (percentage of full on)\u001b[39;00m\n\u001b[1;32m     24\u001b[0m \u001b[38;5;124;03m\"\"\"\u001b[39;00m\n\u001b[1;32m     25\u001b[0m \u001b[38;5;28;01mif\u001b[39;00m \u001b[38;5;129;01mnot\u001b[39;00m (\u001b[38;5;241m0\u001b[39m \u001b[38;5;241m<\u001b[39m\u001b[38;5;241m=\u001b[39m percent \u001b[38;5;241m<\u001b[39m\u001b[38;5;241m=\u001b[39m \u001b[38;5;241m100\u001b[39m):\n\u001b[0;32m---> 26\u001b[0m     \u001b[38;5;28;01mraise\u001b[39;00m \u001b[38;5;167;01mValueError\u001b[39;00m(\u001b[38;5;124m\"\u001b[39m\u001b[38;5;124mpercent must be between 0.0 and 100.0\u001b[39m\u001b[38;5;124m\"\u001b[39m)\n\u001b[1;32m     27\u001b[0m \u001b[38;5;66;03m# PCA9685 uses 12-bit internally but busdevice scales it to 16-bit.\u001b[39;00m\n\u001b[1;32m     28\u001b[0m \u001b[38;5;66;03m# 0 = always off, 0xFFFF = always on. Linear interpolation for duty.\u001b[39;00m\n\u001b[1;32m     29\u001b[0m duty_16bit \u001b[38;5;241m=\u001b[39m \u001b[38;5;28mint\u001b[39m(percent \u001b[38;5;241m*\u001b[39m \u001b[38;5;241m65535\u001b[39m \u001b[38;5;241m/\u001b[39m \u001b[38;5;241m100\u001b[39m)\n",
      "\u001b[0;31mValueError\u001b[0m: percent must be between 0.0 and 100.0"
     ]
    }
   ],
   "source": [
    "#!/usr/bin/env python3\n",
    "import Jetson.GPIO as GPIO\n",
    "GPIO.cleanup()\n",
    "import time\n",
    "import board\n",
    "import busio\n",
    "from adafruit_pca9685 import PCA9685\n",
    "\n",
    "# 1) Initialize I2C bus (busio.I2C uses board.SCL/board.SDA by default)\n",
    "i2c = busio.I2C(board.SCL, board.SDA)\n",
    "\n",
    "# 2) Create PCA9685 object at address 0x40\n",
    "pca = PCA9685(i2c, address=0x40)\n",
    "\n",
    "# 3) Set the PWM frequency (e.g., 50 Hz for servos; \n",
    "#    you can go up to ~1.6 kHz if you want faster switching)\n",
    "pca.frequency = 1000\n",
    "\n",
    "# 4) Define a helper to convert duty cycle percentage → 16-bit value\n",
    "def set_duty(channel, percent):\n",
    "    \"\"\"\n",
    "    channel: 0–15\n",
    "    percent: 0.0 to 100.0 (percentage of full on)\n",
    "    \"\"\"\n",
    "    if not (0 <= percent <= 100):\n",
    "        raise ValueError(\"percent must be between 0.0 and 100.0\")\n",
    "    # PCA9685 uses 12-bit internally but busdevice scales it to 16-bit.\n",
    "    # 0 = always off, 0xFFFF = always on. Linear interpolation for duty.\n",
    "    duty_16bit = int(percent * 65535 / 100)\n",
    "    pca.channels[channel].duty_cycle = duty_16bit\n",
    "\n",
    "# 5) Example: sweep channel 0 from 0% → 100% → 0%\n",
    "dc=100\n",
    "try:\n",
    "    while True:\n",
    "        # set_duty(0, dc)\n",
    "        # print(f\"Channel 0 duty: {dc}%\")\n",
    "        # Ramp from 0 → 100 in 5% steps\n",
    "        for dc in range(0, 101, 5):\n",
    "            set_duty(0, dc)\n",
    "            print(f\"Channel 0 duty: {dc}%\")\n",
    "            time.sleep(2)\n",
    "        # Ramp back down\n",
    "        for dc in range(100, -1, -5):\n",
    "            set_duty(0, dc)\n",
    "            print(f\"Channel 0 duty: {dc}%\")\n",
    "            time.sleep(2)\n",
    "except KeyboardInterrupt:\n",
    "    print(\"Exiting...\")\n",
    "\n",
    "# 6) Clean up: set all channels to 0%\n",
    "for ch in range(16):\n",
    "    pca.channels[ch].duty_cycle = 0\n",
    "\n",
    "# 7) Deinitialize PCA (optional)\n",
    "pca.deinit()\n"
   ]
  },
  {
   "cell_type": "markdown",
   "id": "c01faf51",
   "metadata": {},
   "source": [
    "import acados_template\n",
    "import acados\n",
    "print(acados.__version__)\n",
    "# Try generating a simple OCP:\n",
    "ocp = acados_template.AcadosOcp()\n",
    "print(\"acados OCP instance:\", ocp)\n"
   ]
  },
  {
   "cell_type": "code",
   "execution_count": 2,
   "id": "38ea572a",
   "metadata": {},
   "outputs": [
    {
     "name": "stdout",
     "output_type": "stream",
     "text": [
      "Torch: 2.5.0a0+872d972e41.nv24.08 | CUDA: True\n"
     ]
    }
   ],
   "source": [
    "import torch\n",
    "\n",
    "print(\"Torch:\", torch.__version__, \"| CUDA:\", torch.cuda.is_available())\n"
   ]
  },
  {
   "cell_type": "code",
   "execution_count": null,
   "id": "ea68938e",
   "metadata": {},
   "outputs": [
    {
     "ename": "SyntaxError",
     "evalue": "unknown encoding: future_fstrings (utils.py, line 0)",
     "output_type": "error",
     "traceback": [
      "Traceback \u001b[0;36m(most recent call last)\u001b[0m:\n",
      "\u001b[0m  File \u001b[1;32m~/.local/lib/python3.10/site-packages/IPython/core/interactiveshell.py:3579\u001b[0m in \u001b[1;35mrun_code\u001b[0m\n    exec(code_obj, self.user_global_ns, self.user_ns)\u001b[0m\n",
      "\u001b[0m  Cell \u001b[1;32mIn[5], line 1\u001b[0m\n    from acados_template import AcadosOcp, AcadosOcpSolver\u001b[0m\n",
      "\u001b[0m  File \u001b[1;32m~/miniforge3/envs/myenv/lib/python3.10/site-packages/acados_template/__init__.py:31\u001b[0m\n    from .acados_model import AcadosModel\u001b[0m\n",
      "\u001b[0;36m  File \u001b[0;32m~/miniforge3/envs/myenv/lib/python3.10/site-packages/acados_template/acados_model.py:38\u001b[0;36m\n\u001b[0;31m    from .utils import is_empty, casadi_length\u001b[0;36m\n",
      "\u001b[0;36m  File \u001b[0;32m~/miniforge3/envs/myenv/lib/python3.10/site-packages/acados_template/utils.py\u001b[0;36m\u001b[0m\n\u001b[0;31mSyntaxError\u001b[0m\u001b[0;31m:\u001b[0m unknown encoding: future_fstrings\n"
     ]
    }
   ],
   "source": [
    "from acados_template import AcadosOcp, AcadosOcpSolver\n",
    "from acados_template import AcadosOcp, AcadosOcpSolver\n",
    "\n",
    "# simple smoke test:\n",
    "ocp = AcadosOcp()\n",
    "ocp.model = ...\n",
    "solver = AcadosOcpSolver(ocp, json_file='_your_ocp.json')\n",
    "print(\"Solver built:\", solver)"
   ]
  }
 ],
 "metadata": {
  "kernelspec": {
   "display_name": "myenv",
   "language": "python",
   "name": "python3"
  },
  "language_info": {
   "codemirror_mode": {
    "name": "ipython",
    "version": 3
   },
   "file_extension": ".py",
   "mimetype": "text/x-python",
   "name": "python",
   "nbconvert_exporter": "python",
   "pygments_lexer": "ipython3",
   "version": "3.10.17"
  }
 },
 "nbformat": 4,
 "nbformat_minor": 5
}
