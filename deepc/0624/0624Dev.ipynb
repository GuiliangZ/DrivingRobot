{
 "cells": [
  {
   "cell_type": "code",
   "execution_count": 1,
   "id": "01a46b65",
   "metadata": {},
   "outputs": [],
   "source": [
    "import numpy as np\n",
    "import scipy.signal as scipysig\n",
    "import cvxpy as cp\n",
    "import matplotlib.pyplot as plt\n",
    "import pandas as pd\n",
    "import os\n",
    "\n",
    "from typing import NamedTuple, Tuple, Optional, List, Union\n",
    "from cvxpy import Expression, Variable, Problem, Parameter\n",
    "from cvxpy.constraints.constraint import Constraint\n",
    "from numpy.typing import NDArray\n",
    "from pydeepc import DeePC\n",
    "from pydeepc.utils import Data, create_hankel_matrix, split_data, low_rank_matrix_approximation\n",
    "\n",
    "### To ignore warnings about cp.ECOS not being available\n",
    "import warnings\n",
    "warnings.simplefilter(action='ignore', category=FutureWarning)\n",
    "warnings.simplefilter(action='ignore', category=UserWarning)"
   ]
  },
  {
   "cell_type": "code",
   "execution_count": 2,
   "id": "43e23ed1",
   "metadata": {},
   "outputs": [],
   "source": [
    "def load_timeseries(data_dir):\n",
    "    \"\"\"\n",
    "    Read every .xlsx in data_dir, concatenating their 'u' and 'v_meas' columns.\n",
    "    Returns\n",
    "    -------\n",
    "    u : np.ndarray, shape (T_total,)\n",
    "    v : np.ndarray, shape (T_total,)\n",
    "    \"\"\"\n",
    "    u_list, v_list = [], []\n",
    "    for fname in sorted(os.listdir(data_dir)):\n",
    "        if not fname.endswith('.xlsx'):\n",
    "            continue\n",
    "        df = pd.read_excel(os.path.join(data_dir, fname))\n",
    "        u_list.append(df['u'].values)\n",
    "        v_list.append(df['v_meas'].values)\n",
    "    u = np.concatenate(u_list, axis=0)\n",
    "    v = np.concatenate(v_list, axis=0)\n",
    "    return u, v"
   ]
  },
  {
   "cell_type": "code",
   "execution_count": 3,
   "id": "f4501621",
   "metadata": {},
   "outputs": [],
   "source": [
    "# DeePC paramters\n",
    "s = 1                       # How many steps before we solve again the DeePC problem\n",
    "T_INI = 50                   # Size of the initial set of data\n",
    "T_list = [50, 500]          # Number of data points used to estimate the system\n",
    "HORIZON = 50                # Horizon length\n",
    "LAMBDA_G_REGULARIZER = 1    # g regularizer (see DeePC paper, eq. 8)\n",
    "LAMBDA_Y_REGULARIZER = 1    # y regularizer (see DeePC paper, eq. 8)\n",
    "LAMBDA_U_REGULARIZER = 0    # u regularizer\n",
    "EXPERIMENT_HORIZON = 100    # Total number of steps\n",
    "\n",
    "DATA_DIR   = \"../dataForHankle\"\n",
    "CACHE_FILE = \"../dataForHankle/hankel_dataset.npz\""
   ]
  },
  {
   "cell_type": "code",
   "execution_count": null,
   "id": "da79a1f0",
   "metadata": {},
   "outputs": [
    {
     "ename": "KeyError",
     "evalue": "'U_p is not a file in the archive'",
     "output_type": "error",
     "traceback": [
      "\u001b[0;31m---------------------------------------------------------------------------\u001b[0m",
      "\u001b[0;31mKeyError\u001b[0m                                  Traceback (most recent call last)",
      "Cell \u001b[0;32mIn[5], line 3\u001b[0m\n\u001b[1;32m      1\u001b[0m \u001b[38;5;28;01mif\u001b[39;00m os\u001b[38;5;241m.\u001b[39mpath\u001b[38;5;241m.\u001b[39misfile(CACHE_FILE):\n\u001b[1;32m      2\u001b[0m     npz \u001b[38;5;241m=\u001b[39m np\u001b[38;5;241m.\u001b[39mload(CACHE_FILE)\n\u001b[0;32m----> 3\u001b[0m     \u001b[43mnpz\u001b[49m\u001b[43m[\u001b[49m\u001b[38;5;124;43m'\u001b[39;49m\u001b[38;5;124;43mU_p\u001b[39;49m\u001b[38;5;124;43m'\u001b[39;49m\u001b[43m]\u001b[49m, npz[\u001b[38;5;124m'\u001b[39m\u001b[38;5;124mU_f\u001b[39m\u001b[38;5;124m'\u001b[39m], npz[\u001b[38;5;124m'\u001b[39m\u001b[38;5;124mY_p\u001b[39m\u001b[38;5;124m'\u001b[39m], npz[\u001b[38;5;124m'\u001b[39m\u001b[38;5;124mY_f\u001b[39m\u001b[38;5;124m'\u001b[39m]\n\u001b[1;32m      4\u001b[0m \u001b[38;5;28;01melse\u001b[39;00m:\n\u001b[1;32m      5\u001b[0m     u, v \u001b[38;5;241m=\u001b[39m load_timeseries(DATA_DIR)\n",
      "File \u001b[0;32m~/miniforge3/envs/myenv/lib/python3.10/site-packages/numpy/lib/_npyio_impl.py:261\u001b[0m, in \u001b[0;36mNpzFile.__getitem__\u001b[0;34m(self, key)\u001b[0m\n\u001b[1;32m    259\u001b[0m         \u001b[38;5;28;01mreturn\u001b[39;00m \u001b[38;5;28mself\u001b[39m\u001b[38;5;241m.\u001b[39mzip\u001b[38;5;241m.\u001b[39mread(key)\n\u001b[1;32m    260\u001b[0m \u001b[38;5;28;01melse\u001b[39;00m:\n\u001b[0;32m--> 261\u001b[0m     \u001b[38;5;28;01mraise\u001b[39;00m \u001b[38;5;167;01mKeyError\u001b[39;00m(\u001b[38;5;124mf\u001b[39m\u001b[38;5;124m\"\u001b[39m\u001b[38;5;132;01m{\u001b[39;00mkey\u001b[38;5;132;01m}\u001b[39;00m\u001b[38;5;124m is not a file in the archive\u001b[39m\u001b[38;5;124m\"\u001b[39m)\n",
      "\u001b[0;31mKeyError\u001b[0m: 'U_p is not a file in the archive'"
     ]
    }
   ],
   "source": [
    "if os.path.isfile(CACHE_FILE):\n",
    "    npz = np.load(CACHE_FILE)\n",
    "    Up, Uf, Yp, Yf = npz['U_p'], npz['U_f'], npz['Y_p'], npz['Y_f']"
   ]
  },
  {
   "cell_type": "code",
   "execution_count": 1,
   "id": "be563c20",
   "metadata": {},
   "outputs": [],
   "source": [
    "from collections import deque"
   ]
  },
  {
   "cell_type": "code",
   "execution_count": 4,
   "id": "d3389db6",
   "metadata": {},
   "outputs": [
    {
     "name": "stdout",
     "output_type": "stream",
     "text": [
      "(753405,) (753405,)\n",
      "(753405, 1) (753405, 1)\n",
      "Shapes: U_p (50, 753306) U_f (50, 753306) Y_p (50, 753306) Y_f (50, 753306)\n"
     ]
    }
   ],
   "source": [
    "u, v = load_timeseries(DATA_DIR)\n",
    "print(u.shape, v.shape)\n",
    "u = u.reshape(-1, 1)\n",
    "v = v.reshape(-1, 1)\n",
    "print(u.shape, v.shape)\n",
    "data = Data(u,v)\n",
    "Up, Uf, Yp, Yf = split_data(data, T_INI, HORIZON, explained_variance = 0.9)\n",
    "print(\"Shapes: U_p\", Up.shape, \"U_f\", Uf.shape, \"Y_p\", Yp.shape, \"Y_f\", Yf.shape)\n"
   ]
  },
  {
   "cell_type": "code",
   "execution_count": null,
   "id": "fbab324c",
   "metadata": {},
   "outputs": [],
   "source": [
    "Up, Uf, Yp, Yf = split_data(data, T_INI, HORIZON, explained_variance = 0.9)\n",
    "print(\"Shapes: U_p\", Up.shape, \"U_f\", Uf.shape, \"Y_p\", Yp.shape, \"Y_f\", Yf.shape)\n"
   ]
  },
  {
   "cell_type": "code",
   "execution_count": null,
   "id": "b06d2789",
   "metadata": {},
   "outputs": [
    {
     "name": "stdout",
     "output_type": "stream",
     "text": [
      "(753405,) (753405,)\n",
      "(753405, 1) (753405, 1)\n"
     ]
    }
   ],
   "source": [
    "np.savez(CACHE_FILE, Up=Up, Uf=Uf, Yp=Yp, Yf=Yf)\n"
   ]
  },
  {
   "cell_type": "code",
   "execution_count": 19,
   "id": "cde30aa2",
   "metadata": {},
   "outputs": [],
   "source": [
    "deepc = DeePC(data, Tini = T_INI, horizon = HORIZON)"
   ]
  },
  {
   "cell_type": "code",
   "execution_count": null,
   "id": "9ebc801d",
   "metadata": {},
   "outputs": [
    {
     "name": "stdout",
     "output_type": "stream",
     "text": [
      "Shapes: U_p (50, 753306) U_f (50, 753306) Y_p (50, 753306) Y_f (50, 753306)\n"
     ]
    }
   ],
   "source": [
    "print(\"Shapes: Up\", Up.shape, \"Uf\", Uf.shape, \"Yp\", Yp.shape, \"Yf\", Yf.shape)"
   ]
  },
  {
   "cell_type": "code",
   "execution_count": null,
   "id": "5411a11e",
   "metadata": {},
   "outputs": [],
   "source": []
  }
 ],
 "metadata": {
  "kernelspec": {
   "display_name": "myenv",
   "language": "python",
   "name": "python3"
  },
  "language_info": {
   "codemirror_mode": {
    "name": "ipython",
    "version": 3
   },
   "file_extension": ".py",
   "mimetype": "text/x-python",
   "name": "python",
   "nbconvert_exporter": "python",
   "pygments_lexer": "ipython3",
   "version": "3.10.17"
  }
 },
 "nbformat": 4,
 "nbformat_minor": 5
}
